{
 "cells": [
  {
   "cell_type": "code",
   "execution_count": null,
   "metadata": {
    "collapsed": false
   },
   "outputs": [],
   "source": [
    "import pandas as pd\n",
    "import numpy as np\n",
    "import pdb;\n",
    "from numpy import binary_repr\n",
    "import matplotlib.pyplot as plt\n",
    "%matplotlib inline"
   ]
  },
  {
   "cell_type": "code",
   "execution_count": null,
   "metadata": {
    "collapsed": false
   },
   "outputs": [],
   "source": [
    "def possibilityOfDeath (n):\n",
    "    sumPossibility = 0\n",
    "    flags = np.zeros (n) + 1\n",
    "    \n",
    "    for i in range (0, pow(2, n)):\n",
    "        flagsStr = binary_repr(i, n)\n",
    "        \n",
    "        for j in range (0, n):\n",
    "            flags[j] = int(flagsStr[j])\n",
    "            \n",
    "        x = 2;        \n",
    "        death = False;\n",
    "        possibility = 1;\n",
    "        \n",
    "        for i in range (0, n):\n",
    "            if flags[i] == 0: \n",
    "                x = x - 1\n",
    "                possibility = possibility * 1/3\n",
    "            else:\n",
    "                x = x + 1\n",
    "                possibility = possibility * 2/3\n",
    "            if x == 0:\n",
    "                death = True;\n",
    "                break\n",
    "        \n",
    "        if death:\n",
    "            sumPossibility = sumPossibility + possibility\n",
    "            \n",
    "        #pdb.set_trace()    \n",
    "    \n",
    "    return sumPossibility"
   ]
  },
  {
   "cell_type": "code",
   "execution_count": null,
   "metadata": {
    "collapsed": false
   },
   "outputs": [],
   "source": [
    "possibilityOfDeath (4)"
   ]
  }
 ],
 "metadata": {
  "kernelspec": {
   "display_name": "Python 3",
   "language": "python",
   "name": "python3"
  },
  "language_info": {
   "codemirror_mode": {
    "name": "ipython",
    "version": 3
   },
   "file_extension": ".py",
   "mimetype": "text/x-python",
   "name": "python",
   "nbconvert_exporter": "python",
   "pygments_lexer": "ipython3",
   "version": "3.6.0"
  }
 },
 "nbformat": 4,
 "nbformat_minor": 2
}
