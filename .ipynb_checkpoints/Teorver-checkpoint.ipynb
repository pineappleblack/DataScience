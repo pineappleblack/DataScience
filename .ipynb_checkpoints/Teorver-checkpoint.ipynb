{
 "cells": [
  {
   "cell_type": "code",
   "execution_count": 2,
   "metadata": {
    "collapsed": false
   },
   "outputs": [],
   "source": [
    "import pandas as pd\n",
    "import numpy as np\n",
    "import pdb;\n",
    "from numpy import binary_repr\n",
    "import matplotlib.pyplot as plt\n",
    "%matplotlib inline"
   ]
  },
  {
   "cell_type": "code",
   "execution_count": 108,
   "metadata": {
    "collapsed": false
   },
   "outputs": [],
   "source": [
    "# функция, вычисляющая вероятность смерти пьяницы\n",
    "\n",
    "def possibilityOfDeath (n):\n",
    "    sumPossibility = 0\n",
    "    flags = np.zeros (n) + 1\n",
    "    \n",
    "    for i in range (0, pow(2, n)):\n",
    "        flagsStr = binary_repr(i, n)\n",
    "        \n",
    "        for j in range (0, n):\n",
    "            flags[j] = int(flagsStr[j])\n",
    "            \n",
    "        x = -2;        \n",
    "        death = False;\n",
    "        possibility = 1;\n",
    "        \n",
    "        for i in range (0, n):\n",
    "            if flags[i] == 0: \n",
    "                x = x - 1\n",
    "                possibility = possibility * 2\n",
    "            else:\n",
    "                x = x + 1\n",
    "            if x == 0:\n",
    "                death = True;\n",
    "        \n",
    "        if death:\n",
    "            sumPossibility = sumPossibility + possibility\n",
    "        \n",
    "    sumPossibility = sumPossibility/pow(3, n);\n",
    "    return sumPossibility"
   ]
  },
  {
   "cell_type": "code",
   "execution_count": 109,
   "metadata": {
    "collapsed": false
   },
   "outputs": [
    {
     "data": {
      "text/plain": [
       "0.8395061728395061"
      ]
     },
     "execution_count": 109,
     "metadata": {},
     "output_type": "execute_result"
    }
   ],
   "source": [
    "# вероятность, что через 5 шагов пьяница будет жив\n",
    "\n",
    "1 - possibilityOfDeath (5)"
   ]
  },
  {
   "cell_type": "code",
   "execution_count": 113,
   "metadata": {
    "collapsed": false
   },
   "outputs": [
    {
     "data": {
      "text/plain": [
       "[<matplotlib.lines.Line2D at 0x1df6d702cf8>]"
      ]
     },
     "execution_count": 113,
     "metadata": {},
     "output_type": "execute_result"
    },
    {
     "data": {
      "image/png": "[encoded data removed]",
      "text/plain": [
       "<matplotlib.figure.Figure at 0x1df6d696da0>"
      ]
     },
     "metadata": {},
     "output_type": "display_data"
    }
   ],
   "source": [
    "# строю график\n",
    "\n",
    "steps = [i for i in range(3, 17)]\n",
    "possibility = [1 - possibilityOfDeath(i) for i in range(3, 17)]\n",
    "plt.title('Вероятность жить после N шагов')\n",
    "plt.plot(steps, possibility)"
   ]
  }
 ],
 "metadata": {
  "kernelspec": {
   "display_name": "Python 3",
   "language": "python",
   "name": "python3"
  },
  "language_info": {
   "codemirror_mode": {
    "name": "ipython",
    "version": 3
   },
   "file_extension": ".py",
   "mimetype": "text/x-python",
   "name": "python",
   "nbconvert_exporter": "python",
   "pygments_lexer": "ipython3",
   "version": "3.6.0"
  }
 },
 "nbformat": 4,
 "nbformat_minor": 2
}
